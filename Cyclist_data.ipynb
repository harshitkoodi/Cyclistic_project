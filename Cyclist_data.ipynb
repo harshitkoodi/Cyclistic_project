{
 "cells": [
  {
   "cell_type": "code",
   "execution_count": 1,
   "id": "09cf20d0",
   "metadata": {},
   "outputs": [],
   "source": [
    "import pandas as pd\n",
    "import numpy as np\n",
    "\n",
    "from pandas import Series, DataFrame"
   ]
  },
  {
   "cell_type": "code",
   "execution_count": 2,
   "id": "e95f6b2b",
   "metadata": {},
   "outputs": [
    {
     "data": {
      "text/plain": [
       "['/Users/harshitkoodi/Desktop/Cyclistic_Data/2022_Nov.csv',\n",
       " '/Users/harshitkoodi/Desktop/Cyclistic_Data/2022_Jul.csv',\n",
       " '/Users/harshitkoodi/Desktop/Cyclistic_Data/2022_Sept.csv',\n",
       " '/Users/harshitkoodi/Desktop/Cyclistic_Data/2023_Jan.csv',\n",
       " '/Users/harshitkoodi/Desktop/Cyclistic_Data/2023_May.csv',\n",
       " '/Users/harshitkoodi/Desktop/Cyclistic_Data/2022_Oct.csv',\n",
       " '/Users/harshitkoodi/Desktop/Cyclistic_Data/2022_June.csv',\n",
       " '/Users/harshitkoodi/Desktop/Cyclistic_Data/2022_Aug.csv',\n",
       " '/Users/harshitkoodi/Desktop/Cyclistic_Data/data.csv',\n",
       " '/Users/harshitkoodi/Desktop/Cyclistic_Data/2022_Dec.csv',\n",
       " '/Users/harshitkoodi/Desktop/Cyclistic_Data/2023_Mar.csv',\n",
       " '/Users/harshitkoodi/Desktop/Cyclistic_Data/2023_Feb.csv',\n",
       " '/Users/harshitkoodi/Desktop/Cyclistic_Data/2023_Apr.csv']"
      ]
     },
     "execution_count": 2,
     "metadata": {},
     "output_type": "execute_result"
    }
   ],
   "source": [
    "import glob\n",
    "glob.glob(r'/Users/harshitkoodi/Desktop/Cyclistic_Data/*.csv')"
   ]
  },
  {
   "cell_type": "code",
   "execution_count": 3,
   "id": "e5de93b0",
   "metadata": {},
   "outputs": [
    {
     "name": "stdout",
     "output_type": "stream",
     "text": [
      "Loading /Users/harshitkoodi/Desktop/Cyclistic_Data/2022_Nov.csv\n",
      "Loading /Users/harshitkoodi/Desktop/Cyclistic_Data/2022_Jul.csv\n",
      "Loading /Users/harshitkoodi/Desktop/Cyclistic_Data/2022_Sept.csv\n",
      "Loading /Users/harshitkoodi/Desktop/Cyclistic_Data/2023_Jan.csv\n",
      "Loading /Users/harshitkoodi/Desktop/Cyclistic_Data/2023_May.csv\n",
      "Loading /Users/harshitkoodi/Desktop/Cyclistic_Data/2022_Oct.csv\n",
      "Loading /Users/harshitkoodi/Desktop/Cyclistic_Data/2022_June.csv\n",
      "Loading /Users/harshitkoodi/Desktop/Cyclistic_Data/2022_Aug.csv\n",
      "Loading /Users/harshitkoodi/Desktop/Cyclistic_Data/data.csv\n",
      "Loading /Users/harshitkoodi/Desktop/Cyclistic_Data/2022_Dec.csv\n",
      "Loading /Users/harshitkoodi/Desktop/Cyclistic_Data/2023_Mar.csv\n",
      "Loading /Users/harshitkoodi/Desktop/Cyclistic_Data/2023_Feb.csv\n",
      "Loading /Users/harshitkoodi/Desktop/Cyclistic_Data/2023_Apr.csv\n"
     ]
    }
   ],
   "source": [
    "#Importing the data and merging all CSV files in one\n",
    "\n",
    "all_dfs = []\n",
    "\n",
    "for one_filename in glob.glob(r'/Users/harshitkoodi/Desktop/Cyclistic_Data/*.csv'):\n",
    "    print(f'Loading {one_filename}')\n",
    "    new_df = pd.read_csv(one_filename)\n",
    "    \n",
    "    all_dfs.append(new_df)"
   ]
  },
  {
   "cell_type": "code",
   "execution_count": 4,
   "id": "a4dadc0d",
   "metadata": {},
   "outputs": [],
   "source": [
    "df = pd.concat(all_dfs)"
   ]
  },
  {
   "cell_type": "code",
   "execution_count": 5,
   "id": "cb48fdb4",
   "metadata": {},
   "outputs": [
    {
     "data": {
      "text/html": [
       "<div>\n",
       "<style scoped>\n",
       "    .dataframe tbody tr th:only-of-type {\n",
       "        vertical-align: middle;\n",
       "    }\n",
       "\n",
       "    .dataframe tbody tr th {\n",
       "        vertical-align: top;\n",
       "    }\n",
       "\n",
       "    .dataframe thead th {\n",
       "        text-align: right;\n",
       "    }\n",
       "</style>\n",
       "<table border=\"1\" class=\"dataframe\">\n",
       "  <thead>\n",
       "    <tr style=\"text-align: right;\">\n",
       "      <th></th>\n",
       "      <th>ride_id</th>\n",
       "      <th>rideable_type</th>\n",
       "      <th>started_at</th>\n",
       "      <th>ended_at</th>\n",
       "      <th>start_station_name</th>\n",
       "      <th>start_station_id</th>\n",
       "      <th>end_station_name</th>\n",
       "      <th>end_station_id</th>\n",
       "      <th>start_lat</th>\n",
       "      <th>start_lng</th>\n",
       "      <th>end_lat</th>\n",
       "      <th>end_lng</th>\n",
       "      <th>member_casual</th>\n",
       "      <th>ride_length</th>\n",
       "      <th>day_of_week</th>\n",
       "    </tr>\n",
       "  </thead>\n",
       "  <tbody>\n",
       "    <tr>\n",
       "      <th>426585</th>\n",
       "      <td>8B441A6C436E9900</td>\n",
       "      <td>classic_bike</td>\n",
       "      <td>2023-04-29 21:20:21</td>\n",
       "      <td>2023-04-29 21:30:19</td>\n",
       "      <td>Halsted St &amp; 18th St</td>\n",
       "      <td>13099</td>\n",
       "      <td>Blue Island Ave &amp; 18th St</td>\n",
       "      <td>13135</td>\n",
       "      <td>41.857506</td>\n",
       "      <td>-87.645991</td>\n",
       "      <td>41.857556</td>\n",
       "      <td>-87.661535</td>\n",
       "      <td>casual</td>\n",
       "      <td>NaN</td>\n",
       "      <td>NaN</td>\n",
       "    </tr>\n",
       "    <tr>\n",
       "      <th>426586</th>\n",
       "      <td>3980D64BE11540F1</td>\n",
       "      <td>classic_bike</td>\n",
       "      <td>2023-04-24 09:16:05</td>\n",
       "      <td>2023-04-24 09:22:27</td>\n",
       "      <td>Halsted St &amp; 18th St</td>\n",
       "      <td>13099</td>\n",
       "      <td>Blue Island Ave &amp; 18th St</td>\n",
       "      <td>13135</td>\n",
       "      <td>41.857506</td>\n",
       "      <td>-87.645991</td>\n",
       "      <td>41.857556</td>\n",
       "      <td>-87.661535</td>\n",
       "      <td>casual</td>\n",
       "      <td>NaN</td>\n",
       "      <td>NaN</td>\n",
       "    </tr>\n",
       "    <tr>\n",
       "      <th>426587</th>\n",
       "      <td>3EF4B49FF7DAA02C</td>\n",
       "      <td>classic_bike</td>\n",
       "      <td>2023-04-18 07:53:51</td>\n",
       "      <td>2023-04-18 07:59:16</td>\n",
       "      <td>Franklin St &amp; Jackson Blvd</td>\n",
       "      <td>TA1305000025</td>\n",
       "      <td>Clark St &amp; Randolph St</td>\n",
       "      <td>TA1305000030</td>\n",
       "      <td>41.877708</td>\n",
       "      <td>-87.635321</td>\n",
       "      <td>41.884576</td>\n",
       "      <td>-87.631890</td>\n",
       "      <td>casual</td>\n",
       "      <td>NaN</td>\n",
       "      <td>NaN</td>\n",
       "    </tr>\n",
       "    <tr>\n",
       "      <th>426588</th>\n",
       "      <td>210B2ED6583DC231</td>\n",
       "      <td>classic_bike</td>\n",
       "      <td>2023-04-29 07:33:55</td>\n",
       "      <td>2023-04-29 07:38:57</td>\n",
       "      <td>Michigan Ave &amp; Lake St</td>\n",
       "      <td>TA1305000011</td>\n",
       "      <td>Clark St &amp; Randolph St</td>\n",
       "      <td>TA1305000030</td>\n",
       "      <td>41.886022</td>\n",
       "      <td>-87.624398</td>\n",
       "      <td>41.884576</td>\n",
       "      <td>-87.631890</td>\n",
       "      <td>casual</td>\n",
       "      <td>NaN</td>\n",
       "      <td>NaN</td>\n",
       "    </tr>\n",
       "    <tr>\n",
       "      <th>426589</th>\n",
       "      <td>D29CB39B9E3FC46A</td>\n",
       "      <td>electric_bike</td>\n",
       "      <td>2023-04-18 08:00:32</td>\n",
       "      <td>2023-04-18 08:02:35</td>\n",
       "      <td>Franklin St &amp; Jackson Blvd</td>\n",
       "      <td>TA1305000025</td>\n",
       "      <td>Clark St &amp; Ida B Wells Dr</td>\n",
       "      <td>TA1305000009</td>\n",
       "      <td>41.878134</td>\n",
       "      <td>-87.635255</td>\n",
       "      <td>41.875933</td>\n",
       "      <td>-87.630585</td>\n",
       "      <td>casual</td>\n",
       "      <td>NaN</td>\n",
       "      <td>NaN</td>\n",
       "    </tr>\n",
       "  </tbody>\n",
       "</table>\n",
       "</div>"
      ],
      "text/plain": [
       "                 ride_id  rideable_type           started_at  \\\n",
       "426585  8B441A6C436E9900   classic_bike  2023-04-29 21:20:21   \n",
       "426586  3980D64BE11540F1   classic_bike  2023-04-24 09:16:05   \n",
       "426587  3EF4B49FF7DAA02C   classic_bike  2023-04-18 07:53:51   \n",
       "426588  210B2ED6583DC231   classic_bike  2023-04-29 07:33:55   \n",
       "426589  D29CB39B9E3FC46A  electric_bike  2023-04-18 08:00:32   \n",
       "\n",
       "                   ended_at          start_station_name start_station_id  \\\n",
       "426585  2023-04-29 21:30:19        Halsted St & 18th St            13099   \n",
       "426586  2023-04-24 09:22:27        Halsted St & 18th St            13099   \n",
       "426587  2023-04-18 07:59:16  Franklin St & Jackson Blvd     TA1305000025   \n",
       "426588  2023-04-29 07:38:57      Michigan Ave & Lake St     TA1305000011   \n",
       "426589  2023-04-18 08:02:35  Franklin St & Jackson Blvd     TA1305000025   \n",
       "\n",
       "                 end_station_name end_station_id  start_lat  start_lng  \\\n",
       "426585  Blue Island Ave & 18th St          13135  41.857506 -87.645991   \n",
       "426586  Blue Island Ave & 18th St          13135  41.857506 -87.645991   \n",
       "426587     Clark St & Randolph St   TA1305000030  41.877708 -87.635321   \n",
       "426588     Clark St & Randolph St   TA1305000030  41.886022 -87.624398   \n",
       "426589  Clark St & Ida B Wells Dr   TA1305000009  41.878134 -87.635255   \n",
       "\n",
       "          end_lat    end_lng member_casual ride_length  day_of_week  \n",
       "426585  41.857556 -87.661535        casual         NaN          NaN  \n",
       "426586  41.857556 -87.661535        casual         NaN          NaN  \n",
       "426587  41.884576 -87.631890        casual         NaN          NaN  \n",
       "426588  41.884576 -87.631890        casual         NaN          NaN  \n",
       "426589  41.875933 -87.630585        casual         NaN          NaN  "
      ]
     },
     "execution_count": 5,
     "metadata": {},
     "output_type": "execute_result"
    }
   ],
   "source": [
    "df.tail(5)"
   ]
  },
  {
   "cell_type": "code",
   "execution_count": 6,
   "id": "56714982",
   "metadata": {},
   "outputs": [
    {
     "name": "stdout",
     "output_type": "stream",
     "text": [
      "Index(['ride_id', 'rideable_type', 'started_at', 'ended_at',\n",
      "       'start_station_name', 'start_station_id', 'end_station_name',\n",
      "       'end_station_id', 'start_lat', 'start_lng', 'end_lat', 'end_lng',\n",
      "       'member_casual', 'ride_length', 'day_of_week'],\n",
      "      dtype='object')\n"
     ]
    }
   ],
   "source": [
    "column_names = df.columns\n",
    "print(column_names)"
   ]
  },
  {
   "cell_type": "code",
   "execution_count": 7,
   "id": "b33f9f64",
   "metadata": {},
   "outputs": [
    {
     "data": {
      "text/plain": [
       "member    3681265\n",
       "casual    2450155\n",
       "Name: member_casual, dtype: int64"
      ]
     },
     "execution_count": 7,
     "metadata": {},
     "output_type": "execute_result"
    }
   ],
   "source": [
    "df['member_casual'].value_counts()"
   ]
  },
  {
   "cell_type": "code",
   "execution_count": 8,
   "id": "63539256",
   "metadata": {},
   "outputs": [],
   "source": [
    "#sns.histplot(data=df, x='member_casual')"
   ]
  },
  {
   "cell_type": "code",
   "execution_count": 43,
   "id": "02f211c6",
   "metadata": {},
   "outputs": [],
   "source": [
    "#creating a new column 'ride_length' to calculate the time of each ride\n",
    "\n",
    "from datetime import datetime\n",
    "\n",
    "df['started_at'] = pd.to_datetime(df['started_at'])\n",
    "df['ended_at'] = pd.to_datetime(df['ended_at'])"
   ]
  },
  {
   "cell_type": "code",
   "execution_count": 10,
   "id": "266b7a96",
   "metadata": {},
   "outputs": [],
   "source": [
    "df['ride_length'] = df['ended_at'] - df['started_at']"
   ]
  },
  {
   "cell_type": "code",
   "execution_count": 11,
   "id": "db93eb37",
   "metadata": {},
   "outputs": [
    {
     "data": {
      "text/plain": [
       "0        0 days 00:09:32\n",
       "1        0 days 00:14:30\n",
       "2        0 days 00:14:07\n",
       "3        0 days 00:15:41\n",
       "4        0 days 00:18:26\n",
       "               ...      \n",
       "426585   0 days 00:09:58\n",
       "426586   0 days 00:06:22\n",
       "426587   0 days 00:05:25\n",
       "426588   0 days 00:05:02\n",
       "426589   0 days 00:02:03\n",
       "Name: ride_length, Length: 6131420, dtype: timedelta64[ns]"
      ]
     },
     "execution_count": 11,
     "metadata": {},
     "output_type": "execute_result"
    }
   ],
   "source": [
    "df['ride_length']"
   ]
  },
  {
   "cell_type": "code",
   "execution_count": 12,
   "id": "b221c643",
   "metadata": {},
   "outputs": [
    {
     "data": {
      "text/plain": [
       "Timedelta('0 days 00:18:51.249623904')"
      ]
     },
     "execution_count": 12,
     "metadata": {},
     "output_type": "execute_result"
    }
   ],
   "source": [
    "df['ride_length'].mean()"
   ]
  },
  {
   "cell_type": "code",
   "execution_count": 13,
   "id": "b3f71bdb",
   "metadata": {},
   "outputs": [],
   "source": [
    "df['day_of_week'] = df['started_at'].dt.dayofweek\n"
   ]
  },
  {
   "cell_type": "code",
   "execution_count": 14,
   "id": "d60e8a19",
   "metadata": {},
   "outputs": [
    {
     "data": {
      "text/plain": [
       "0    3\n",
       "1    4\n",
       "2    0\n",
       "3    4\n",
       "4    1\n",
       "Name: day_of_week, dtype: int64"
      ]
     },
     "execution_count": 14,
     "metadata": {},
     "output_type": "execute_result"
    }
   ],
   "source": [
    "df['day_of_week'].head()\n",
    "#monday 0 sunday 6"
   ]
  },
  {
   "cell_type": "code",
   "execution_count": 15,
   "id": "05f45c79",
   "metadata": {},
   "outputs": [],
   "source": [
    "null_count = df['member_casual'].isnull().sum()"
   ]
  },
  {
   "cell_type": "code",
   "execution_count": 16,
   "id": "1a3fa4cf",
   "metadata": {},
   "outputs": [
    {
     "data": {
      "text/plain": [
       "0"
      ]
     },
     "execution_count": 16,
     "metadata": {},
     "output_type": "execute_result"
    }
   ],
   "source": [
    "null_count"
   ]
  },
  {
   "cell_type": "code",
   "execution_count": 17,
   "id": "09d8470f",
   "metadata": {},
   "outputs": [],
   "source": [
    "mean_member = df.loc[df['member_casual'] == 'member', 'ride_length'].mean()\n",
    "mean_casual = df.loc[df['member_casual'] == 'casual', 'ride_length'].mean()"
   ]
  },
  {
   "cell_type": "code",
   "execution_count": 18,
   "id": "b016d480",
   "metadata": {},
   "outputs": [
    {
     "data": {
      "text/plain": [
       "Timedelta('0 days 00:28:23.853001136')"
      ]
     },
     "execution_count": 18,
     "metadata": {},
     "output_type": "execute_result"
    }
   ],
   "source": [
    "mean_casual"
   ]
  },
  {
   "cell_type": "code",
   "execution_count": 19,
   "id": "b7e582d4",
   "metadata": {},
   "outputs": [
    {
     "data": {
      "text/plain": [
       "Timedelta('0 days 00:12:30.139590331')"
      ]
     },
     "execution_count": 19,
     "metadata": {},
     "output_type": "execute_result"
    }
   ],
   "source": [
    "mean_member"
   ]
  },
  {
   "cell_type": "code",
   "execution_count": 20,
   "id": "969eba90",
   "metadata": {},
   "outputs": [],
   "source": [
    "from IPython.display import display, FileLink"
   ]
  },
  {
   "cell_type": "markdown",
   "id": "ad3c1a45",
   "metadata": {},
   "source": [
    "np.random.seed(42)\n",
    "\n",
    "# Get the number of rows to drop\n",
    "num_rows_to_drop = int(len(df) * 0.2)\n",
    "\n",
    "# Drop random rows\n",
    "df = df.drop(np.random.choice(df.index, num_rows_to_drop, replace=False))\n",
    "\n",
    "# Save the modified DataFrame to a new file or overwrite the original file\n",
    "#df.to_csv('modified_file.csv', index=False)  # Replace 'modified_file.csv' with the desired file name"
   ]
  },
  {
   "cell_type": "markdown",
   "id": "b19df3d8",
   "metadata": {},
   "source": [
    "df.to_csv('data.csv', index=False)\n",
    "\n",
    "# Provide a download link for the CSV file\n",
    "display(FileLink('data.csv', result_html_prefix=\"Click here to download: \"))"
   ]
  },
  {
   "cell_type": "code",
   "execution_count": 21,
   "id": "5fbf3e87",
   "metadata": {},
   "outputs": [
    {
     "data": {
      "text/plain": [
       "(6131420, 15)"
      ]
     },
     "execution_count": 21,
     "metadata": {},
     "output_type": "execute_result"
    }
   ],
   "source": [
    "df.shape"
   ]
  },
  {
   "cell_type": "code",
   "execution_count": 22,
   "id": "48093ad5",
   "metadata": {},
   "outputs": [],
   "source": [
    "riders_by_day = df.groupby(['day_of_week', 'member_casual']).size()"
   ]
  },
  {
   "cell_type": "code",
   "execution_count": 23,
   "id": "d1a9b039",
   "metadata": {},
   "outputs": [
    {
     "data": {
      "text/plain": [
       "day_of_week  member_casual\n",
       "0            casual           272915\n",
       "             member           492390\n",
       "1            casual           286493\n",
       "             member           577120\n",
       "2            casual           308724\n",
       "             member           605946\n",
       "3            casual           331747\n",
       "             member           590968\n",
       "4            casual           367481\n",
       "             member           525309\n",
       "5            casual           484076\n",
       "             member           475426\n",
       "6            casual           398719\n",
       "             member           414106\n",
       "dtype: int64"
      ]
     },
     "execution_count": 23,
     "metadata": {},
     "output_type": "execute_result"
    }
   ],
   "source": [
    "riders_by_day"
   ]
  },
  {
   "cell_type": "code",
   "execution_count": 44,
   "id": "1c53e095",
   "metadata": {},
   "outputs": [
    {
     "data": {
      "image/png": "[encoded data removed]",
      "text/plain": [
       "<Figure size 432x288 with 1 Axes>"
      ]
     },
     "metadata": {
      "needs_background": "light"
     },
     "output_type": "display_data"
    }
   ],
   "source": [
    "#Plotting Casual vs Regular Riders by Day of the Week\n",
    "\n",
    "import matplotlib.pyplot as plt\n",
    "\n",
    "#riders_by_day = riders_by_day.unstack()\n",
    "colors = {'casual' : 'orange', 'member' : 'green'}\n",
    "\n",
    "# Plot the data\n",
    "\n",
    "riders_by_day.unstack().plot(kind='bar', color = colors)\n",
    "\n",
    "# Set the labels and title\n",
    "plt.xlabel('Day of the Week')\n",
    "plt.ylabel('Count')\n",
    "plt.title('Casual vs Regular Riders by Day of the Week')\n",
    "\n",
    "# Show the plot\n",
    "plt.show()"
   ]
  },
  {
   "cell_type": "code",
   "execution_count": 25,
   "id": "48560261",
   "metadata": {},
   "outputs": [],
   "source": [
    "from datetime import datetime\n",
    "\n",
    "df['month'] = pd.to_datetime(df['started_at']).dt.month\n",
    "    "
   ]
  },
  {
   "cell_type": "code",
   "execution_count": 26,
   "id": "ed6442f8",
   "metadata": {},
   "outputs": [
    {
     "data": {
      "text/plain": [
       "0         11\n",
       "1         11\n",
       "2         11\n",
       "3         11\n",
       "4         11\n",
       "          ..\n",
       "426585     4\n",
       "426586     4\n",
       "426587     4\n",
       "426588     4\n",
       "426589     4\n",
       "Name: month, Length: 6131420, dtype: int64"
      ]
     },
     "execution_count": 26,
     "metadata": {},
     "output_type": "execute_result"
    }
   ],
   "source": [
    "df['month']"
   ]
  },
  {
   "cell_type": "code",
   "execution_count": 27,
   "id": "601a504d",
   "metadata": {},
   "outputs": [],
   "source": [
    "riders_by_month = df.groupby(['month', 'member_casual']).size()"
   ]
  },
  {
   "cell_type": "code",
   "execution_count": 28,
   "id": "3f38b517",
   "metadata": {
    "scrolled": true
   },
   "outputs": [
    {
     "data": {
      "text/plain": [
       "month  member_casual\n",
       "1      casual            40210\n",
       "       member           151037\n",
       "2      casual            43217\n",
       "       member           148175\n",
       "3      casual            62690\n",
       "       member           198102\n",
       "4      casual           150022\n",
       "       member           284879\n",
       "5      casual           243027\n",
       "       member           384184\n",
       "6      casual           396074\n",
       "       member           429321\n",
       "7      casual           451383\n",
       "       member           459238\n",
       "8      casual           387561\n",
       "       member           461417\n",
       "9      casual           312947\n",
       "       member           427053\n",
       "10     casual           215792\n",
       "       member           360320\n",
       "11     casual           102127\n",
       "       member           239952\n",
       "12     casual            45105\n",
       "       member           137587\n",
       "dtype: int64"
      ]
     },
     "execution_count": 28,
     "metadata": {},
     "output_type": "execute_result"
    }
   ],
   "source": [
    "riders_by_month"
   ]
  },
  {
   "cell_type": "code",
   "execution_count": 45,
   "id": "0b83e11c",
   "metadata": {},
   "outputs": [
    {
     "data": {
      "image/png": "[encoded data removed]",
      "text/plain": [
       "<Figure size 432x288 with 1 Axes>"
      ]
     },
     "metadata": {
      "needs_background": "light"
     },
     "output_type": "display_data"
    }
   ],
   "source": [
    "#Plotting Casual vs Member Riders by Month\n",
    "\n",
    "import matplotlib.pyplot as plt\n",
    "\n",
    "#riders_by_month.plot(kind='bar')\n",
    "\n",
    "colors = {'casual': 'blue', 'member': 'red'}\n",
    "\n",
    "# Plot the data\n",
    "\n",
    "riders_by_month.unstack().plot(kind='bar', color=colors)\n",
    "\n",
    "# Set the labels and title\n",
    "plt.xlabel('Month')\n",
    "plt.ylabel('Count')\n",
    "plt.title('Casual vs Member Riders by Month')\n",
    "\n",
    "# Show the plot\n",
    "plt.show()"
   ]
  },
  {
   "cell_type": "code",
   "execution_count": 30,
   "id": "f82acfed",
   "metadata": {},
   "outputs": [],
   "source": [
    "df['ride_length'] = pd.to_timedelta(df['ride_length'], unit='minutes')\n",
    "riders_avgtime_byday = df.groupby(['day_of_week', 'member_casual'])['ride_length'].mean()\n",
    "riders_avgtime_byday = riders_avgtime_byday.unstack()\n",
    "\n"
   ]
  },
  {
   "cell_type": "code",
   "execution_count": 31,
   "id": "96881a0b",
   "metadata": {},
   "outputs": [
    {
     "name": "stdout",
     "output_type": "stream",
     "text": [
      "timedelta64[ns]\n"
     ]
    }
   ],
   "source": [
    "print(df['ride_length'].dtype)"
   ]
  },
  {
   "cell_type": "code",
   "execution_count": 32,
   "id": "609ca069",
   "metadata": {},
   "outputs": [
    {
     "name": "stdout",
     "output_type": "stream",
     "text": [
      "member_casual\n",
      "casual    0\n",
      "member    0\n",
      "dtype: int64\n"
     ]
    }
   ],
   "source": [
    "null_counts = riders_avgtime_byday.isnull().sum()\n",
    "print(null_counts)\n"
   ]
  },
  {
   "cell_type": "markdown",
   "id": "f70dbc37",
   "metadata": {},
   "source": [
    "#colors = {'casual': 'blue', 'member': 'red'}\n",
    "\n",
    "# Plot the data\n",
    "riders_avgtime_byday.plot(kind='bar')\n",
    "\n",
    "# Set the labels and title\n",
    "plt.xlabel('Day of Week')\n",
    "plt.ylabel('Average Ride Time')\n",
    "plt.title('Average Ride Time by Day of Week')\n",
    "\n",
    "# Show the plot\n",
    "plt.show()"
   ]
  },
  {
   "cell_type": "code",
   "execution_count": 39,
   "id": "6bd14160",
   "metadata": {},
   "outputs": [],
   "source": [
    "bike_type = df.groupby(['rideable_type', 'member_casual']).size()"
   ]
  },
  {
   "cell_type": "code",
   "execution_count": 40,
   "id": "89e391b2",
   "metadata": {},
   "outputs": [
    {
     "data": {
      "text/plain": [
       "rideable_type  member_casual\n",
       "classic_bike   casual            903060\n",
       "               member           1803736\n",
       "docked_bike    casual            165494\n",
       "electric_bike  casual           1381601\n",
       "               member           1877529\n",
       "dtype: int64"
      ]
     },
     "execution_count": 40,
     "metadata": {},
     "output_type": "execute_result"
    }
   ],
   "source": [
    "bike_type"
   ]
  },
  {
   "cell_type": "code",
   "execution_count": 48,
   "id": "9e0a0e04",
   "metadata": {},
   "outputs": [
    {
     "data": {
      "image/png": "[encoded data removed]",
      "text/plain": [
       "<Figure size 432x288 with 1 Axes>"
      ]
     },
     "metadata": {
      "needs_background": "light"
     },
     "output_type": "display_data"
    }
   ],
   "source": [
    "#Plotting Which bike works the most\n",
    "\n",
    "colors = {'casual': 'blue', 'member': 'red'}\n",
    "\n",
    "# Plot the data\n",
    "bike_type.unstack().plot(kind='bar', color=colors)\n",
    "\n",
    "# Set the labels and title\n",
    "plt.xlabel('Bike Type')\n",
    "plt.ylabel('Number of bikes')\n",
    "plt.title('Which bike works the most')\n",
    "\n",
    "# Show the plot\n",
    "plt.show()"
   ]
  },
  {
   "cell_type": "code",
   "execution_count": null,
   "id": "ba1ea8ee",
   "metadata": {},
   "outputs": [],
   "source": []
  }
 ],
 "metadata": {
  "kernelspec": {
   "display_name": "Python 3 (ipykernel)",
   "language": "python",
   "name": "python3"
  },
  "language_info": {
   "codemirror_mode": {
    "name": "ipython",
    "version": 3
   },
   "file_extension": ".py",
   "mimetype": "text/x-python",
   "name": "python",
   "nbconvert_exporter": "python",
   "pygments_lexer": "ipython3",
   "version": "3.9.7"
  }
 },
 "nbformat": 4,
 "nbformat_minor": 5
}
